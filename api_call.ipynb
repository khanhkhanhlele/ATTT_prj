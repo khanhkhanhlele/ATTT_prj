{
 "cells": [
  {
   "cell_type": "code",
   "execution_count": 1,
   "id": "b54b30f4",
   "metadata": {
    "_cell_guid": "b1076dfc-b9ad-4769-8c92-a6c4dae69d19",
    "_uuid": "8f2839f25d086af736a60e9eeb907d3b93b6e0e5",
    "execution": {
     "iopub.execute_input": "2023-07-09T08:12:08.140246Z",
     "iopub.status.busy": "2023-07-09T08:12:08.139352Z",
     "iopub.status.idle": "2023-07-09T08:12:12.699239Z",
     "shell.execute_reply": "2023-07-09T08:12:12.697749Z"
    },
    "papermill": {
     "duration": 4.576693,
     "end_time": "2023-07-09T08:12:12.701376",
     "exception": false,
     "start_time": "2023-07-09T08:12:08.124683",
     "status": "completed"
    },
    "tags": []
   },
   "outputs": [
    {
     "name": "stderr",
     "output_type": "stream",
     "text": [
      "/opt/conda/lib/python3.10/site-packages/scipy/__init__.py:146: UserWarning: A NumPy version >=1.16.5 and <1.23.0 is required for this version of SciPy (detected version 1.23.5\n",
      "  warnings.warn(f\"A NumPy version >={np_minversion} and <{np_maxversion}\"\n"
     ]
    },
    {
     "name": "stdout",
     "output_type": "stream",
     "text": [
      "/kaggle/input/malware-analysis-datasets-api-call-sequences/dynamic_api_call_sequence_per_malware_100_0_306.csv\n"
     ]
    }
   ],
   "source": [
    "import numpy as np\n",
    "import pylab as pl\n",
    "import pandas as pd\n",
    "import matplotlib.pyplot as plt \n",
    "%matplotlib inline\n",
    "import seaborn as sns\n",
    "from sklearn.utils import shuffle\n",
    "from sklearn.svm import SVC\n",
    "from sklearn.metrics import confusion_matrix,classification_report\n",
    "from sklearn.model_selection import cross_val_score, GridSearchCV\n",
    "import torch\n",
    "\n",
    "import os\n",
    "for dirname, _, filenames in os.walk('/kaggle/input'):\n",
    "    for filename in filenames:\n",
    "        print(os.path.join(dirname, filename))\n"
   ]
  },
  {
   "cell_type": "markdown",
   "id": "dff9cebf",
   "metadata": {
    "papermill": {
     "duration": 0.013013,
     "end_time": "2023-07-09T08:12:12.727531",
     "exception": false,
     "start_time": "2023-07-09T08:12:12.714518",
     "status": "completed"
    },
    "tags": []
   },
   "source": [
    "# **Class to config 40 seed and for batch size 64 each Model**"
   ]
  },
  {
   "cell_type": "code",
   "execution_count": 2,
   "id": "baab8298",
   "metadata": {
    "execution": {
     "iopub.execute_input": "2023-07-09T08:12:12.754939Z",
     "iopub.status.busy": "2023-07-09T08:12:12.754397Z",
     "iopub.status.idle": "2023-07-09T08:12:12.817599Z",
     "shell.execute_reply": "2023-07-09T08:12:12.816431Z"
    },
    "papermill": {
     "duration": 0.078993,
     "end_time": "2023-07-09T08:12:12.819585",
     "exception": false,
     "start_time": "2023-07-09T08:12:12.740592",
     "status": "completed"
    },
    "tags": []
   },
   "outputs": [],
   "source": [
    "class cfg:\n",
    "    FOLD = 0\n",
    "    SEEDS = [42]\n",
    "    batch_size = 64\n",
    "    device = torch.device('cuda' if torch.cuda.is_available() else 'cpu')"
   ]
  },
  {
   "cell_type": "markdown",
   "id": "168d3e33",
   "metadata": {
    "papermill": {
     "duration": 0.012664,
     "end_time": "2023-07-09T08:12:12.844983",
     "exception": false,
     "start_time": "2023-07-09T08:12:12.832319",
     "status": "completed"
    },
    "tags": []
   },
   "source": [
    "# Creating Data Frame from the Dataset"
   ]
  },
  {
   "cell_type": "code",
   "execution_count": 3,
   "id": "551a45de",
   "metadata": {
    "execution": {
     "iopub.execute_input": "2023-07-09T08:12:12.872285Z",
     "iopub.status.busy": "2023-07-09T08:12:12.871288Z",
     "iopub.status.idle": "2023-07-09T08:12:13.594260Z",
     "shell.execute_reply": "2023-07-09T08:12:13.593267Z"
    },
    "papermill": {
     "duration": 0.738846,
     "end_time": "2023-07-09T08:12:13.596804",
     "exception": false,
     "start_time": "2023-07-09T08:12:12.857958",
     "status": "completed"
    },
    "tags": []
   },
   "outputs": [],
   "source": [
    "data = pd.read_csv(\"../input/malware-analysis-datasets-api-call-sequences/dynamic_api_call_sequence_per_malware_100_0_306.csv\")"
   ]
  },
  {
   "cell_type": "code",
   "execution_count": 4,
   "id": "b9d6bf1a",
   "metadata": {
    "execution": {
     "iopub.execute_input": "2023-07-09T08:12:13.624537Z",
     "iopub.status.busy": "2023-07-09T08:12:13.624048Z",
     "iopub.status.idle": "2023-07-09T08:12:13.668758Z",
     "shell.execute_reply": "2023-07-09T08:12:13.667781Z"
    },
    "papermill": {
     "duration": 0.062073,
     "end_time": "2023-07-09T08:12:13.671800",
     "exception": false,
     "start_time": "2023-07-09T08:12:13.609727",
     "status": "completed"
    },
    "tags": []
   },
   "outputs": [
    {
     "data": {
      "text/html": [
       "<div>\n",
       "<style scoped>\n",
       "    .dataframe tbody tr th:only-of-type {\n",
       "        vertical-align: middle;\n",
       "    }\n",
       "\n",
       "    .dataframe tbody tr th {\n",
       "        vertical-align: top;\n",
       "    }\n",
       "\n",
       "    .dataframe thead th {\n",
       "        text-align: right;\n",
       "    }\n",
       "</style>\n",
       "<table border=\"1\" class=\"dataframe\">\n",
       "  <thead>\n",
       "    <tr style=\"text-align: right;\">\n",
       "      <th></th>\n",
       "      <th>hash</th>\n",
       "      <th>t_0</th>\n",
       "      <th>t_1</th>\n",
       "      <th>t_2</th>\n",
       "      <th>t_3</th>\n",
       "      <th>t_4</th>\n",
       "      <th>t_5</th>\n",
       "      <th>t_6</th>\n",
       "      <th>t_7</th>\n",
       "      <th>t_8</th>\n",
       "      <th>...</th>\n",
       "      <th>t_91</th>\n",
       "      <th>t_92</th>\n",
       "      <th>t_93</th>\n",
       "      <th>t_94</th>\n",
       "      <th>t_95</th>\n",
       "      <th>t_96</th>\n",
       "      <th>t_97</th>\n",
       "      <th>t_98</th>\n",
       "      <th>t_99</th>\n",
       "      <th>malware</th>\n",
       "    </tr>\n",
       "  </thead>\n",
       "  <tbody>\n",
       "    <tr>\n",
       "      <th>0</th>\n",
       "      <td>071e8c3f8922e186e57548cd4c703a5d</td>\n",
       "      <td>112</td>\n",
       "      <td>274</td>\n",
       "      <td>158</td>\n",
       "      <td>215</td>\n",
       "      <td>274</td>\n",
       "      <td>158</td>\n",
       "      <td>215</td>\n",
       "      <td>298</td>\n",
       "      <td>76</td>\n",
       "      <td>...</td>\n",
       "      <td>71</td>\n",
       "      <td>297</td>\n",
       "      <td>135</td>\n",
       "      <td>171</td>\n",
       "      <td>215</td>\n",
       "      <td>35</td>\n",
       "      <td>208</td>\n",
       "      <td>56</td>\n",
       "      <td>71</td>\n",
       "      <td>1</td>\n",
       "    </tr>\n",
       "    <tr>\n",
       "      <th>1</th>\n",
       "      <td>33f8e6d08a6aae939f25a8e0d63dd523</td>\n",
       "      <td>82</td>\n",
       "      <td>208</td>\n",
       "      <td>187</td>\n",
       "      <td>208</td>\n",
       "      <td>172</td>\n",
       "      <td>117</td>\n",
       "      <td>172</td>\n",
       "      <td>117</td>\n",
       "      <td>172</td>\n",
       "      <td>...</td>\n",
       "      <td>81</td>\n",
       "      <td>240</td>\n",
       "      <td>117</td>\n",
       "      <td>71</td>\n",
       "      <td>297</td>\n",
       "      <td>135</td>\n",
       "      <td>171</td>\n",
       "      <td>215</td>\n",
       "      <td>35</td>\n",
       "      <td>1</td>\n",
       "    </tr>\n",
       "    <tr>\n",
       "      <th>2</th>\n",
       "      <td>b68abd064e975e1c6d5f25e748663076</td>\n",
       "      <td>16</td>\n",
       "      <td>110</td>\n",
       "      <td>240</td>\n",
       "      <td>117</td>\n",
       "      <td>240</td>\n",
       "      <td>117</td>\n",
       "      <td>240</td>\n",
       "      <td>117</td>\n",
       "      <td>240</td>\n",
       "      <td>...</td>\n",
       "      <td>65</td>\n",
       "      <td>112</td>\n",
       "      <td>123</td>\n",
       "      <td>65</td>\n",
       "      <td>112</td>\n",
       "      <td>123</td>\n",
       "      <td>65</td>\n",
       "      <td>113</td>\n",
       "      <td>112</td>\n",
       "      <td>1</td>\n",
       "    </tr>\n",
       "    <tr>\n",
       "      <th>3</th>\n",
       "      <td>72049be7bd30ea61297ea624ae198067</td>\n",
       "      <td>82</td>\n",
       "      <td>208</td>\n",
       "      <td>187</td>\n",
       "      <td>208</td>\n",
       "      <td>172</td>\n",
       "      <td>117</td>\n",
       "      <td>172</td>\n",
       "      <td>117</td>\n",
       "      <td>172</td>\n",
       "      <td>...</td>\n",
       "      <td>208</td>\n",
       "      <td>302</td>\n",
       "      <td>208</td>\n",
       "      <td>302</td>\n",
       "      <td>187</td>\n",
       "      <td>208</td>\n",
       "      <td>302</td>\n",
       "      <td>228</td>\n",
       "      <td>302</td>\n",
       "      <td>1</td>\n",
       "    </tr>\n",
       "    <tr>\n",
       "      <th>4</th>\n",
       "      <td>c9b3700a77facf29172f32df6bc77f48</td>\n",
       "      <td>82</td>\n",
       "      <td>240</td>\n",
       "      <td>117</td>\n",
       "      <td>240</td>\n",
       "      <td>117</td>\n",
       "      <td>240</td>\n",
       "      <td>117</td>\n",
       "      <td>240</td>\n",
       "      <td>117</td>\n",
       "      <td>...</td>\n",
       "      <td>209</td>\n",
       "      <td>260</td>\n",
       "      <td>40</td>\n",
       "      <td>209</td>\n",
       "      <td>260</td>\n",
       "      <td>141</td>\n",
       "      <td>260</td>\n",
       "      <td>141</td>\n",
       "      <td>260</td>\n",
       "      <td>1</td>\n",
       "    </tr>\n",
       "  </tbody>\n",
       "</table>\n",
       "<p>5 rows × 102 columns</p>\n",
       "</div>"
      ],
      "text/plain": [
       "                               hash  t_0  t_1  t_2  t_3  t_4  t_5  t_6  t_7  \\\n",
       "0  071e8c3f8922e186e57548cd4c703a5d  112  274  158  215  274  158  215  298   \n",
       "1  33f8e6d08a6aae939f25a8e0d63dd523   82  208  187  208  172  117  172  117   \n",
       "2  b68abd064e975e1c6d5f25e748663076   16  110  240  117  240  117  240  117   \n",
       "3  72049be7bd30ea61297ea624ae198067   82  208  187  208  172  117  172  117   \n",
       "4  c9b3700a77facf29172f32df6bc77f48   82  240  117  240  117  240  117  240   \n",
       "\n",
       "   t_8  ...  t_91  t_92  t_93  t_94  t_95  t_96  t_97  t_98  t_99  malware  \n",
       "0   76  ...    71   297   135   171   215    35   208    56    71        1  \n",
       "1  172  ...    81   240   117    71   297   135   171   215    35        1  \n",
       "2  240  ...    65   112   123    65   112   123    65   113   112        1  \n",
       "3  172  ...   208   302   208   302   187   208   302   228   302        1  \n",
       "4  117  ...   209   260    40   209   260   141   260   141   260        1  \n",
       "\n",
       "[5 rows x 102 columns]"
      ]
     },
     "execution_count": 4,
     "metadata": {},
     "output_type": "execute_result"
    }
   ],
   "source": [
    "data.head()\n"
   ]
  },
  {
   "cell_type": "markdown",
   "id": "ab73385e",
   "metadata": {
    "papermill": {
     "duration": 0.023871,
     "end_time": "2023-07-09T08:12:13.720115",
     "exception": false,
     "start_time": "2023-07-09T08:12:13.696244",
     "status": "completed"
    },
    "tags": []
   },
   "source": [
    "# **Droping column of each feature that having null**"
   ]
  },
  {
   "cell_type": "code",
   "execution_count": 5,
   "id": "5cdabeec",
   "metadata": {
    "execution": {
     "iopub.execute_input": "2023-07-09T08:12:13.749843Z",
     "iopub.status.busy": "2023-07-09T08:12:13.749499Z",
     "iopub.status.idle": "2023-07-09T08:12:13.788256Z",
     "shell.execute_reply": "2023-07-09T08:12:13.787055Z"
    },
    "papermill": {
     "duration": 0.055524,
     "end_time": "2023-07-09T08:12:13.790952",
     "exception": false,
     "start_time": "2023-07-09T08:12:13.735428",
     "status": "completed"
    },
    "tags": []
   },
   "outputs": [
    {
     "name": "stdout",
     "output_type": "stream",
     "text": [
      "(43876, 101)\n"
     ]
    }
   ],
   "source": [
    "data1 = data.drop(columns=['hash'],\n",
    "\n",
    "                 axis=1)\n",
    "data1 = data1.dropna(how='any')\n",
    "print(data1.shape)"
   ]
  },
  {
   "cell_type": "code",
   "execution_count": 6,
   "id": "daedc001",
   "metadata": {
    "execution": {
     "iopub.execute_input": "2023-07-09T08:12:13.819953Z",
     "iopub.status.busy": "2023-07-09T08:12:13.819673Z",
     "iopub.status.idle": "2023-07-09T08:12:14.048967Z",
     "shell.execute_reply": "2023-07-09T08:12:14.048044Z"
    },
    "papermill": {
     "duration": 0.245731,
     "end_time": "2023-07-09T08:12:14.051154",
     "exception": false,
     "start_time": "2023-07-09T08:12:13.805423",
     "status": "completed"
    },
    "tags": []
   },
   "outputs": [
    {
     "data": {
      "image/png": "[encoded data removed]",
      "text/plain": [
       "<Figure size 1200x400 with 1 Axes>"
      ]
     },
     "metadata": {},
     "output_type": "display_data"
    }
   ],
   "source": [
    "cnt_pro = data1['malware'].value_counts()\n",
    "plt.figure(figsize=(12,4))\n",
    "sns.barplot(x=cnt_pro.index, y=cnt_pro.values ,alpha=0.8)\n",
    "plt.ylabel('Number of data', fontsize=12)\n",
    "plt.xlabel('malware', fontsize=12)\n",
    "plt.xticks(rotation=90)\n",
    "plt.show();"
   ]
  },
  {
   "cell_type": "code",
   "execution_count": 7,
   "id": "6b2a13d6",
   "metadata": {
    "execution": {
     "iopub.execute_input": "2023-07-09T08:12:14.079933Z",
     "iopub.status.busy": "2023-07-09T08:12:14.079355Z",
     "iopub.status.idle": "2023-07-09T08:12:14.112675Z",
     "shell.execute_reply": "2023-07-09T08:12:14.111697Z"
    },
    "papermill": {
     "duration": 0.050463,
     "end_time": "2023-07-09T08:12:14.115165",
     "exception": false,
     "start_time": "2023-07-09T08:12:14.064702",
     "status": "completed"
    },
    "tags": []
   },
   "outputs": [],
   "source": [
    "data_dict = {}\n",
    "for label, group in data1.groupby('malware'):\n",
    "    data_dict[label] = group.sample(min(group.shape[0], 4000))\n",
    "data2 = pd.concat(data_dict.values())\n",
    "data2 = data2.reset_index()"
   ]
  },
  {
   "cell_type": "code",
   "execution_count": 8,
   "id": "58d6f8b5",
   "metadata": {
    "execution": {
     "iopub.execute_input": "2023-07-09T08:12:14.143326Z",
     "iopub.status.busy": "2023-07-09T08:12:14.142993Z",
     "iopub.status.idle": "2023-07-09T08:12:14.155159Z",
     "shell.execute_reply": "2023-07-09T08:12:14.154302Z"
    },
    "papermill": {
     "duration": 0.028823,
     "end_time": "2023-07-09T08:12:14.157593",
     "exception": false,
     "start_time": "2023-07-09T08:12:14.128770",
     "status": "completed"
    },
    "tags": []
   },
   "outputs": [],
   "source": [
    "from sklearn.model_selection import StratifiedKFold\n",
    "skf = StratifiedKFold(n_splits=5)\n",
    "for fold, (_, val_idx) in enumerate(skf.split(data2, data2.malware)):\n",
    "    data2.loc[val_idx, 'fold'] = fold\n",
    "data2.fold = data2.fold.astype(int)"
   ]
  },
  {
   "cell_type": "code",
   "execution_count": 9,
   "id": "18e847a9",
   "metadata": {
    "execution": {
     "iopub.execute_input": "2023-07-09T08:12:14.185839Z",
     "iopub.status.busy": "2023-07-09T08:12:14.185538Z",
     "iopub.status.idle": "2023-07-09T08:12:14.354276Z",
     "shell.execute_reply": "2023-07-09T08:12:14.353422Z"
    },
    "papermill": {
     "duration": 0.18495,
     "end_time": "2023-07-09T08:12:14.356456",
     "exception": false,
     "start_time": "2023-07-09T08:12:14.171506",
     "status": "completed"
    },
    "tags": []
   },
   "outputs": [],
   "source": [
    "data2.to_csv('malware-analysis-1000.csv')"
   ]
  },
  {
   "cell_type": "markdown",
   "id": "0cdf4f27",
   "metadata": {
    "papermill": {
     "duration": 0.013008,
     "end_time": "2023-07-09T08:12:14.382588",
     "exception": false,
     "start_time": "2023-07-09T08:12:14.369580",
     "status": "completed"
    },
    "tags": []
   },
   "source": [
    "# **Machine Learning**"
   ]
  },
  {
   "cell_type": "code",
   "execution_count": 10,
   "id": "8316038e",
   "metadata": {
    "execution": {
     "iopub.execute_input": "2023-07-09T08:12:14.410296Z",
     "iopub.status.busy": "2023-07-09T08:12:14.409986Z",
     "iopub.status.idle": "2023-07-09T08:12:14.449475Z",
     "shell.execute_reply": "2023-07-09T08:12:14.448532Z"
    },
    "papermill": {
     "duration": 0.056056,
     "end_time": "2023-07-09T08:12:14.451689",
     "exception": false,
     "start_time": "2023-07-09T08:12:14.395633",
     "status": "completed"
    },
    "tags": []
   },
   "outputs": [],
   "source": [
    "X_train = data2.query(f'fold!={cfg.FOLD}').drop(columns=['index','malware','fold'])\n",
    "X_test = data2.query(f'fold=={cfg.FOLD}').drop(columns=['index','malware','fold'])\n",
    "\n",
    "Y_train = data2.query(f'fold!={cfg.FOLD}').malware\n",
    "Y_test = data2.query(f'fold=={cfg.FOLD}').malware"
   ]
  },
  {
   "cell_type": "code",
   "execution_count": 11,
   "id": "cbc92048",
   "metadata": {
    "execution": {
     "iopub.execute_input": "2023-07-09T08:12:14.481061Z",
     "iopub.status.busy": "2023-07-09T08:12:14.480763Z",
     "iopub.status.idle": "2023-07-09T08:12:14.487075Z",
     "shell.execute_reply": "2023-07-09T08:12:14.485681Z"
    },
    "papermill": {
     "duration": 0.02407,
     "end_time": "2023-07-09T08:12:14.489221",
     "exception": false,
     "start_time": "2023-07-09T08:12:14.465151",
     "status": "completed"
    },
    "tags": []
   },
   "outputs": [
    {
     "name": "stdout",
     "output_type": "stream",
     "text": [
      "X train shape:  (4063, 100)\n",
      "Y train shape:  (4063,)\n",
      "X test shape:  (1016, 100)\n",
      "Y test shape:  (1016,)\n"
     ]
    }
   ],
   "source": [
    "print('X train shape: ', X_train.shape)\n",
    "print('Y train shape: ', Y_train.shape)\n",
    "print('X test shape: ', X_test.shape)\n",
    "print('Y test shape: ', Y_test.shape)"
   ]
  },
  {
   "cell_type": "code",
   "execution_count": 12,
   "id": "ea987600",
   "metadata": {
    "execution": {
     "iopub.execute_input": "2023-07-09T08:12:14.517509Z",
     "iopub.status.busy": "2023-07-09T08:12:14.516662Z",
     "iopub.status.idle": "2023-07-09T08:12:14.532181Z",
     "shell.execute_reply": "2023-07-09T08:12:14.531341Z"
    },
    "papermill": {
     "duration": 0.031545,
     "end_time": "2023-07-09T08:12:14.534307",
     "exception": false,
     "start_time": "2023-07-09T08:12:14.502762",
     "status": "completed"
    },
    "tags": []
   },
   "outputs": [],
   "source": [
    "from sklearn.feature_extraction.text import TfidfTransformer"
   ]
  },
  {
   "cell_type": "code",
   "execution_count": 13,
   "id": "ccc6a19d",
   "metadata": {
    "execution": {
     "iopub.execute_input": "2023-07-09T08:12:14.564768Z",
     "iopub.status.busy": "2023-07-09T08:12:14.564503Z",
     "iopub.status.idle": "2023-07-09T08:12:14.570532Z",
     "shell.execute_reply": "2023-07-09T08:12:14.569611Z"
    },
    "papermill": {
     "duration": 0.025257,
     "end_time": "2023-07-09T08:12:14.572571",
     "exception": false,
     "start_time": "2023-07-09T08:12:14.547314",
     "status": "completed"
    },
    "tags": []
   },
   "outputs": [],
   "source": [
    "def get_freq(data):\n",
    "    data_cnt = []\n",
    "    for i, row in data.iterrows():\n",
    "        item = np.zeros((307,))\n",
    "        cnts = row.value_counts()\n",
    "        item[cnts.keys()] = cnts.values\n",
    "        data_cnt.append(item)\n",
    "    data_cnt = np.stack(data_cnt)\n",
    "    return data_cnt\n"
   ]
  },
  {
   "cell_type": "code",
   "execution_count": 14,
   "id": "d60e6143",
   "metadata": {
    "execution": {
     "iopub.execute_input": "2023-07-09T08:12:14.601180Z",
     "iopub.status.busy": "2023-07-09T08:12:14.600877Z",
     "iopub.status.idle": "2023-07-09T08:12:16.222510Z",
     "shell.execute_reply": "2023-07-09T08:12:16.221460Z"
    },
    "papermill": {
     "duration": 1.63812,
     "end_time": "2023-07-09T08:12:16.224847",
     "exception": false,
     "start_time": "2023-07-09T08:12:14.586727",
     "status": "completed"
    },
    "tags": []
   },
   "outputs": [],
   "source": [
    "transformer = TfidfTransformer()\n",
    "X_train_cnt = get_freq(X_train)\n",
    "X_test_cnt = get_freq(X_test)\n",
    "\n",
    "transformer.fit(X_train_cnt)\n",
    "\n",
    "X_train_tfidf = transformer.transform(X_train_cnt).toarray()\n",
    "X_test_tfidf = transformer.transform(X_test_cnt).toarray()"
   ]
  },
  {
   "cell_type": "code",
   "execution_count": 15,
   "id": "240b2d2e",
   "metadata": {
    "execution": {
     "iopub.execute_input": "2023-07-09T08:12:16.253428Z",
     "iopub.status.busy": "2023-07-09T08:12:16.253134Z",
     "iopub.status.idle": "2023-07-09T08:12:16.258897Z",
     "shell.execute_reply": "2023-07-09T08:12:16.257901Z"
    },
    "papermill": {
     "duration": 0.022172,
     "end_time": "2023-07-09T08:12:16.261262",
     "exception": false,
     "start_time": "2023-07-09T08:12:16.239090",
     "status": "completed"
    },
    "tags": []
   },
   "outputs": [],
   "source": [
    "def train(model, X_train, Y_train, X_test, Y_test):\n",
    "    model.fit(X_train, Y_train)\n",
    "    test_acc_mlp = model.score(X_test, Y_test)\n",
    "    train_acc_mlp = model.score(X_train, Y_train)\n",
    "    prediction = model.predict(X_test)\n",
    "    precision = precision_score(Y_test, prediction)\n",
    "    recall = recall_score(Y_test, prediction)\n",
    "    return precision, recall"
   ]
  },
  {
   "cell_type": "code",
   "execution_count": 16,
   "id": "215a91db",
   "metadata": {
    "execution": {
     "iopub.execute_input": "2023-07-09T08:12:16.288983Z",
     "iopub.status.busy": "2023-07-09T08:12:16.288139Z",
     "iopub.status.idle": "2023-07-09T08:12:16.294817Z",
     "shell.execute_reply": "2023-07-09T08:12:16.294003Z"
    },
    "papermill": {
     "duration": 0.022684,
     "end_time": "2023-07-09T08:12:16.296808",
     "exception": false,
     "start_time": "2023-07-09T08:12:16.274124",
     "status": "completed"
    },
    "tags": []
   },
   "outputs": [],
   "source": [
    "def evaluate_model(M, X_train, Y_train, X_test, Y_test):\n",
    "    trn_acc = 0\n",
    "    test_acc = 0\n",
    "    models = []\n",
    "    for seed in cfg.SEEDS:\n",
    "        model = M(random_state=seed)\n",
    "        _trn_acc, _test_acc = train(model, X_train, Y_train, X_test, Y_test)\n",
    "        trn_acc += _trn_acc\n",
    "        test_acc += _test_acc\n",
    "        models.append(model)\n",
    "    trn_acc = round(trn_acc/len(cfg.SEEDS) * 100, 2)\n",
    "    test_acc = round(test_acc/len(cfg.SEEDS) * 100, 2)\n",
    "    return trn_acc, test_acc, models"
   ]
  },
  {
   "cell_type": "code",
   "execution_count": 17,
   "id": "0e2ae769",
   "metadata": {
    "execution": {
     "iopub.execute_input": "2023-07-09T08:12:16.324551Z",
     "iopub.status.busy": "2023-07-09T08:12:16.323815Z",
     "iopub.status.idle": "2023-07-09T08:12:16.368473Z",
     "shell.execute_reply": "2023-07-09T08:12:16.367685Z"
    },
    "papermill": {
     "duration": 0.060709,
     "end_time": "2023-07-09T08:12:16.370600",
     "exception": false,
     "start_time": "2023-07-09T08:12:16.309891",
     "status": "completed"
    },
    "tags": []
   },
   "outputs": [],
   "source": [
    "from tqdm.auto import tqdm\n",
    "from sklearn.neural_network import MLPClassifier\n",
    "from sklearn.svm import LinearSVC, SVC\n",
    "from sklearn.metrics import average_precision_score, precision_score, recall_score\n",
    "import scikitplot as skplt\n",
    "import matplotlib.pyplot as plt\n",
    "import warnings\n",
    "warnings.filterwarnings('ignore')"
   ]
  },
  {
   "cell_type": "code",
   "execution_count": 18,
   "id": "1916848d",
   "metadata": {
    "execution": {
     "iopub.execute_input": "2023-07-09T08:12:16.398558Z",
     "iopub.status.busy": "2023-07-09T08:12:16.397806Z",
     "iopub.status.idle": "2023-07-09T08:12:18.263773Z",
     "shell.execute_reply": "2023-07-09T08:12:18.262829Z"
    },
    "papermill": {
     "duration": 1.882457,
     "end_time": "2023-07-09T08:12:18.266140",
     "exception": false,
     "start_time": "2023-07-09T08:12:16.383683",
     "status": "completed"
    },
    "tags": []
   },
   "outputs": [],
   "source": [
    "from functools import partial\n",
    "import lightgbm as lgb\n",
    "from sklearn import svm"
   ]
  },
  {
   "cell_type": "code",
   "execution_count": 19,
   "id": "f1988ad7",
   "metadata": {
    "execution": {
     "iopub.execute_input": "2023-07-09T08:12:18.295305Z",
     "iopub.status.busy": "2023-07-09T08:12:18.294987Z",
     "iopub.status.idle": "2023-07-09T08:12:18.300379Z",
     "shell.execute_reply": "2023-07-09T08:12:18.299475Z"
    },
    "papermill": {
     "duration": 0.021739,
     "end_time": "2023-07-09T08:12:18.302443",
     "exception": false,
     "start_time": "2023-07-09T08:12:18.280704",
     "status": "completed"
    },
    "tags": []
   },
   "outputs": [],
   "source": [
    "model_factory = {}\n",
    "model_factory['svm'] = svm.LinearSVC\n",
    "model_factory['svm-rbf'] = partial(svm.SVC, kernel='rbf')\n",
    "model_factory['lgb'] = lgb.LGBMClassifier\n",
    "model_factory['mlp'] = partial(MLPClassifier, hidden_layer_sizes=(100,100,100),max_iter=1000)"
   ]
  },
  {
   "cell_type": "code",
   "execution_count": 20,
   "id": "86752bc1",
   "metadata": {
    "execution": {
     "iopub.execute_input": "2023-07-09T08:12:18.330815Z",
     "iopub.status.busy": "2023-07-09T08:12:18.330112Z",
     "iopub.status.idle": "2023-07-09T08:12:42.609437Z",
     "shell.execute_reply": "2023-07-09T08:12:42.607858Z"
    },
    "papermill": {
     "duration": 24.297589,
     "end_time": "2023-07-09T08:12:42.613419",
     "exception": false,
     "start_time": "2023-07-09T08:12:18.315830",
     "status": "completed"
    },
    "tags": []
   },
   "outputs": [
    {
     "name": "stdout",
     "output_type": "stream",
     "text": [
      "svm\n",
      "baseline: Train Accuracy 89.16, Test Accuracy 97.62\n",
      "\n",
      "svm-rbf\n",
      "baseline: Train Accuracy 92.82, Test Accuracy 98.62\n",
      "\n",
      "lgb\n",
      "baseline: Train Accuracy 94.28, Test Accuracy 98.88\n",
      "\n",
      "mlp\n",
      "baseline: Train Accuracy 93.71, Test Accuracy 95.0\n",
      "\n",
      "svm\n",
      "tf-idf:Train Accuracy 95.02, Test Accuracy 95.38\n",
      "\n",
      "svm-rbf\n",
      "tf-idf:Train Accuracy 92.78, Test Accuracy 94.75\n",
      "\n",
      "lgb\n",
      "tf-idf:Train Accuracy 97.04, Test Accuracy 98.25\n",
      "\n",
      "mlp\n",
      "tf-idf:Train Accuracy 97.01, Test Accuracy 97.5\n",
      "\n"
     ]
    }
   ],
   "source": [
    "from sklearn.metrics import PrecisionRecallDisplay\n",
    "perf = []\n",
    "\n",
    "for name, model in model_factory.items():\n",
    "    print(name)\n",
    "    trn_acc0, test_acc0, models = evaluate_model(model, X_train, Y_train, X_test, Y_test)\n",
    "    print(f\"baseline: Train Accuracy {trn_acc0}, Test Accuracy {test_acc0}\")\n",
    "    print()\n",
    "    perf.append({\n",
    "        'model': name,\n",
    "        'feature': 'baseline',\n",
    "        'precision': trn_acc0,\n",
    "        'recall': test_acc0,\n",
    "    })\n",
    "\n",
    "\n",
    "trainsy=[]\n",
    "for name, model in model_factory.items():\n",
    "    print(name)\n",
    "    trn_acc1, test_acc1, models = evaluate_model(model, X_train_cnt, Y_train, X_test_cnt, Y_test)\n",
    "    print(f\"tf-idf:Train Accuracy {trn_acc1}, Test Accuracy {test_acc1}\" )\n",
    "    print()\n",
    "    perf.append({\n",
    "        'model': name,\n",
    "        'feature': 'tf-idf',\n",
    "        'precision': trn_acc1,\n",
    "        'recall': test_acc1,\n",
    "    })"
   ]
  },
  {
   "cell_type": "code",
   "execution_count": 21,
   "id": "2e613b40",
   "metadata": {
    "execution": {
     "iopub.execute_input": "2023-07-09T08:12:42.675623Z",
     "iopub.status.busy": "2023-07-09T08:12:42.675135Z",
     "iopub.status.idle": "2023-07-09T08:12:42.700299Z",
     "shell.execute_reply": "2023-07-09T08:12:42.699187Z"
    },
    "papermill": {
     "duration": 0.059305,
     "end_time": "2023-07-09T08:12:42.703702",
     "exception": false,
     "start_time": "2023-07-09T08:12:42.644397",
     "status": "completed"
    },
    "tags": []
   },
   "outputs": [
    {
     "data": {
      "text/html": [
       "<div>\n",
       "<style scoped>\n",
       "    .dataframe tbody tr th:only-of-type {\n",
       "        vertical-align: middle;\n",
       "    }\n",
       "\n",
       "    .dataframe tbody tr th {\n",
       "        vertical-align: top;\n",
       "    }\n",
       "\n",
       "    .dataframe thead th {\n",
       "        text-align: right;\n",
       "    }\n",
       "</style>\n",
       "<table border=\"1\" class=\"dataframe\">\n",
       "  <thead>\n",
       "    <tr style=\"text-align: right;\">\n",
       "      <th></th>\n",
       "      <th></th>\n",
       "      <th>precision</th>\n",
       "      <th>recall</th>\n",
       "    </tr>\n",
       "    <tr>\n",
       "      <th>feature</th>\n",
       "      <th>model</th>\n",
       "      <th></th>\n",
       "      <th></th>\n",
       "    </tr>\n",
       "  </thead>\n",
       "  <tbody>\n",
       "    <tr>\n",
       "      <th rowspan=\"4\" valign=\"top\">baseline</th>\n",
       "      <th>svm</th>\n",
       "      <td>89.16</td>\n",
       "      <td>97.62</td>\n",
       "    </tr>\n",
       "    <tr>\n",
       "      <th>svm-rbf</th>\n",
       "      <td>92.82</td>\n",
       "      <td>98.62</td>\n",
       "    </tr>\n",
       "    <tr>\n",
       "      <th>lgb</th>\n",
       "      <td>94.28</td>\n",
       "      <td>98.88</td>\n",
       "    </tr>\n",
       "    <tr>\n",
       "      <th>mlp</th>\n",
       "      <td>93.71</td>\n",
       "      <td>95.00</td>\n",
       "    </tr>\n",
       "    <tr>\n",
       "      <th rowspan=\"4\" valign=\"top\">tf-idf</th>\n",
       "      <th>svm</th>\n",
       "      <td>95.02</td>\n",
       "      <td>95.38</td>\n",
       "    </tr>\n",
       "    <tr>\n",
       "      <th>svm-rbf</th>\n",
       "      <td>92.78</td>\n",
       "      <td>94.75</td>\n",
       "    </tr>\n",
       "    <tr>\n",
       "      <th>lgb</th>\n",
       "      <td>97.04</td>\n",
       "      <td>98.25</td>\n",
       "    </tr>\n",
       "    <tr>\n",
       "      <th>mlp</th>\n",
       "      <td>97.01</td>\n",
       "      <td>97.50</td>\n",
       "    </tr>\n",
       "  </tbody>\n",
       "</table>\n",
       "</div>"
      ],
      "text/plain": [
       "                  precision  recall\n",
       "feature  model                     \n",
       "baseline svm          89.16   97.62\n",
       "         svm-rbf      92.82   98.62\n",
       "         lgb          94.28   98.88\n",
       "         mlp          93.71   95.00\n",
       "tf-idf   svm          95.02   95.38\n",
       "         svm-rbf      92.78   94.75\n",
       "         lgb          97.04   98.25\n",
       "         mlp          97.01   97.50"
      ]
     },
     "execution_count": 21,
     "metadata": {},
     "output_type": "execute_result"
    }
   ],
   "source": [
    "pd.DataFrame(perf).set_index(['feature', 'model'])"
   ]
  },
  {
   "cell_type": "markdown",
   "id": "a5023dad",
   "metadata": {
    "papermill": {
     "duration": 0.014474,
     "end_time": "2023-07-09T08:12:42.747916",
     "exception": false,
     "start_time": "2023-07-09T08:12:42.733442",
     "status": "completed"
    },
    "tags": []
   },
   "source": [
    "# **Deep Learning**"
   ]
  },
  {
   "cell_type": "code",
   "execution_count": 22,
   "id": "8d2e380a",
   "metadata": {
    "execution": {
     "iopub.execute_input": "2023-07-09T08:12:42.778385Z",
     "iopub.status.busy": "2023-07-09T08:12:42.778062Z",
     "iopub.status.idle": "2023-07-09T08:12:42.782619Z",
     "shell.execute_reply": "2023-07-09T08:12:42.781695Z"
    },
    "papermill": {
     "duration": 0.021772,
     "end_time": "2023-07-09T08:12:42.784514",
     "exception": false,
     "start_time": "2023-07-09T08:12:42.762742",
     "status": "completed"
    },
    "tags": []
   },
   "outputs": [],
   "source": [
    "import torch\n",
    "from torch import nn\n",
    "from torch.utils.data import DataLoader, TensorDataset"
   ]
  },
  {
   "cell_type": "markdown",
   "id": "d63c6c32",
   "metadata": {
    "papermill": {
     "duration": 0.013935,
     "end_time": "2023-07-09T08:12:42.812497",
     "exception": false,
     "start_time": "2023-07-09T08:12:42.798562",
     "status": "completed"
    },
    "tags": []
   },
   "source": [
    "# **Loading The Dataset**"
   ]
  },
  {
   "cell_type": "code",
   "execution_count": 23,
   "id": "316e3bd5",
   "metadata": {
    "execution": {
     "iopub.execute_input": "2023-07-09T08:12:42.843330Z",
     "iopub.status.busy": "2023-07-09T08:12:42.842586Z",
     "iopub.status.idle": "2023-07-09T08:12:42.876946Z",
     "shell.execute_reply": "2023-07-09T08:12:42.876137Z"
    },
    "papermill": {
     "duration": 0.052005,
     "end_time": "2023-07-09T08:12:42.879052",
     "exception": false,
     "start_time": "2023-07-09T08:12:42.827047",
     "status": "completed"
    },
    "tags": []
   },
   "outputs": [],
   "source": [
    "trn_dset = TensorDataset(torch.tensor(X_train.values), torch.tensor(Y_train.values))\n",
    "test_dset = TensorDataset(torch.tensor(X_test.values), torch.tensor(Y_test.values))\n",
    "trn_loader = DataLoader(trn_dset, shuffle=True, batch_size=cfg.batch_size)\n",
    "test_loader = DataLoader(test_dset, shuffle=False, batch_size=cfg.batch_size)"
   ]
  },
  {
   "cell_type": "markdown",
   "id": "d0b9e010",
   "metadata": {
    "papermill": {
     "duration": 0.013806,
     "end_time": "2023-07-09T08:12:42.907310",
     "exception": false,
     "start_time": "2023-07-09T08:12:42.893504",
     "status": "completed"
    },
    "tags": []
   },
   "source": [
    "# **RNN Model**"
   ]
  },
  {
   "cell_type": "code",
   "execution_count": 24,
   "id": "e9eeeeb3",
   "metadata": {
    "execution": {
     "iopub.execute_input": "2023-07-09T08:12:42.937417Z",
     "iopub.status.busy": "2023-07-09T08:12:42.936667Z",
     "iopub.status.idle": "2023-07-09T08:12:42.945105Z",
     "shell.execute_reply": "2023-07-09T08:12:42.944205Z"
    },
    "papermill": {
     "duration": 0.02548,
     "end_time": "2023-07-09T08:12:42.947060",
     "exception": false,
     "start_time": "2023-07-09T08:12:42.921580",
     "status": "completed"
    },
    "tags": []
   },
   "outputs": [],
   "source": [
    "class RNN(torch.nn.Module):\n",
    "    def __init__(self):\n",
    "        super().__init__()\n",
    "        self.embedding = nn.Embedding(307, 100)\n",
    "        self.rnn = nn.GRU(input_size=100, hidden_size=50, num_layers=1, batch_first=True, bidirectional=True, dropout=0.2)\n",
    "        self.rnn = nn.LSTM(input_size=100, hidden_size=50, num_layers=1, batch_first=True, bidirectional=True, dropout=0.2)\n",
    "        self.classifier = nn.Sequential(\n",
    "            nn.Linear(100, 100),\n",
    "            nn.ReLU(),\n",
    "            nn.Linear(100, 1),\n",
    "            nn.Sigmoid()\n",
    "        )\n",
    "    \n",
    "    def forward(self, inp):\n",
    "        emb = self.embedding(inp)\n",
    "        feats, _ = self.rnn(emb)\n",
    "        gl_feats = feats.mean(dim=1)\n",
    "        probs = self.classifier(gl_feats).squeeze(-1)\n",
    "        return probs\n"
   ]
  },
  {
   "cell_type": "markdown",
   "id": "9bc0cc3c",
   "metadata": {
    "papermill": {
     "duration": 0.013992,
     "end_time": "2023-07-09T08:12:42.975232",
     "exception": false,
     "start_time": "2023-07-09T08:12:42.961240",
     "status": "completed"
    },
    "tags": []
   },
   "source": [
    "# **CNN Model**"
   ]
  },
  {
   "attachments": {
    "acf526b7-57f1-41b3-b9a3-b38c0ed9c820.png": {
     "image/png": "[encoded data removed]"
    }
   },
   "cell_type": "markdown",
   "id": "b68d2245",
   "metadata": {
    "papermill": {
     "duration": 0.013804,
     "end_time": "2023-07-09T08:12:43.002984",
     "exception": false,
     "start_time": "2023-07-09T08:12:42.989180",
     "status": "completed"
    },
    "tags": []
   },
   "source": [
    "![image.png](attachment:acf526b7-57f1-41b3-b9a3-b38c0ed9c820.png)"
   ]
  },
  {
   "cell_type": "code",
   "execution_count": 25,
   "id": "8b8489fd",
   "metadata": {
    "execution": {
     "iopub.execute_input": "2023-07-09T08:12:43.033226Z",
     "iopub.status.busy": "2023-07-09T08:12:43.032620Z",
     "iopub.status.idle": "2023-07-09T08:12:43.042751Z",
     "shell.execute_reply": "2023-07-09T08:12:43.041961Z"
    },
    "papermill": {
     "duration": 0.027157,
     "end_time": "2023-07-09T08:12:43.044699",
     "exception": false,
     "start_time": "2023-07-09T08:12:43.017542",
     "status": "completed"
    },
    "tags": []
   },
   "outputs": [],
   "source": [
    "class CNN(torch.nn.Module):\n",
    "    def __init__(self):\n",
    "        super().__init__()\n",
    "        self.embedding = nn.Embedding(307, 100)\n",
    "        self.cnn = nn.Sequential(\n",
    "            nn.Conv1d(100, 100, kernel_size=3, padding=1),\n",
    "            nn.ReLU(),\n",
    "            nn.BatchNorm1d(100),\n",
    "            nn.Dropout(0.2),\n",
    "            nn.MaxPool1d(2),\n",
    "            nn.Conv1d(100, 100, kernel_size=3, padding=1),\n",
    "            nn.ReLU(),\n",
    "            nn.BatchNorm1d(100),\n",
    "            nn.Dropout(0.2),\n",
    "            nn.MaxPool1d(2),\n",
    "            nn.Conv1d(100, 100, kernel_size=3, padding=1),\n",
    "        )\n",
    "        self.pool = nn.AdaptiveAvgPool1d(1)\n",
    "        self.classifier = nn.Sequential(\n",
    "            nn.Linear(100, 100),\n",
    "            nn.ReLU(),\n",
    "            nn.Linear(100, 1),\n",
    "            nn.Sigmoid()\n",
    "        )\n",
    "    \n",
    "    def forward(self, inp):\n",
    "        emb = self.embedding(inp)\n",
    "        gl_feats = self.pool(self.cnn(emb.permute(0,2,1))).squeeze(-1)\n",
    "        probs = self.classifier(gl_feats).squeeze(-1)\n",
    "        return probs\n",
    "\n"
   ]
  },
  {
   "cell_type": "markdown",
   "id": "872e88fc",
   "metadata": {
    "papermill": {
     "duration": 0.013831,
     "end_time": "2023-07-09T08:12:43.072525",
     "exception": false,
     "start_time": "2023-07-09T08:12:43.058694",
     "status": "completed"
    },
    "tags": []
   },
   "source": [
    "# **Creating Factory Pattern Design For each Model ( CNN or RNN )**"
   ]
  },
  {
   "cell_type": "code",
   "execution_count": 26,
   "id": "9da88752",
   "metadata": {
    "execution": {
     "iopub.execute_input": "2023-07-09T08:12:43.102485Z",
     "iopub.status.busy": "2023-07-09T08:12:43.101767Z",
     "iopub.status.idle": "2023-07-09T08:12:43.106268Z",
     "shell.execute_reply": "2023-07-09T08:12:43.105450Z"
    },
    "papermill": {
     "duration": 0.021494,
     "end_time": "2023-07-09T08:12:43.108177",
     "exception": false,
     "start_time": "2023-07-09T08:12:43.086683",
     "status": "completed"
    },
    "tags": []
   },
   "outputs": [],
   "source": [
    "nn_dict = {\n",
    "    'CNN': CNN,\n",
    "    \"RNN\": RNN\n",
    "}"
   ]
  },
  {
   "attachments": {
    "3d06f4f7-03cc-479f-a8fd-5e1bb37d0a39.png": {
     "image/png": "[encoded data removed]"
    }
   },
   "cell_type": "markdown",
   "id": "2f583b69",
   "metadata": {
    "papermill": {
     "duration": 0.013974,
     "end_time": "2023-07-09T08:12:43.136598",
     "exception": false,
     "start_time": "2023-07-09T08:12:43.122624",
     "status": "completed"
    },
    "tags": []
   },
   "source": [
    "# **Binary Cross Entropy ||**![image.png](attachment:3d06f4f7-03cc-479f-a8fd-5e1bb37d0a39.png)"
   ]
  },
  {
   "cell_type": "code",
   "execution_count": 27,
   "id": "23ddfe56",
   "metadata": {
    "execution": {
     "iopub.execute_input": "2023-07-09T08:12:43.166197Z",
     "iopub.status.busy": "2023-07-09T08:12:43.165480Z",
     "iopub.status.idle": "2023-07-09T08:12:43.171995Z",
     "shell.execute_reply": "2023-07-09T08:12:43.171198Z"
    },
    "papermill": {
     "duration": 0.023712,
     "end_time": "2023-07-09T08:12:43.174251",
     "exception": false,
     "start_time": "2023-07-09T08:12:43.150539",
     "status": "completed"
    },
    "tags": []
   },
   "outputs": [],
   "source": [
    "loss_fn = torch.nn.BCELoss()\n",
    "def acc_fn(pred, label):\n",
    "    return ((pred>0.5)==label).float().mean()\n",
    "\n",
    "def precision_fn(pred,label):\n",
    "    return ((pred>0.5)==label).float().sum()/(pred>0.5).float().sum()\n",
    "\n",
    "def recall_fn(pred,label):\n",
    "    return ((pred>0.5)==label).float().sum()/label.float().sum()"
   ]
  },
  {
   "cell_type": "code",
   "execution_count": 28,
   "id": "465a4832",
   "metadata": {
    "execution": {
     "iopub.execute_input": "2023-07-09T08:12:43.204473Z",
     "iopub.status.busy": "2023-07-09T08:12:43.204191Z",
     "iopub.status.idle": "2023-07-09T08:12:43.218047Z",
     "shell.execute_reply": "2023-07-09T08:12:43.217167Z"
    },
    "papermill": {
     "duration": 0.032395,
     "end_time": "2023-07-09T08:12:43.220332",
     "exception": false,
     "start_time": "2023-07-09T08:12:43.187937",
     "status": "completed"
    },
    "tags": []
   },
   "outputs": [],
   "source": [
    "def train_nn(net, optimizer, trn_loader, test_loader):\n",
    "    trn_losses = []\n",
    "    trn_accs = []\n",
    "    test_losses = []\n",
    "    test_accs = []\n",
    "\n",
    "    for epoch in tqdm(range(50)):\n",
    "        net.train()\n",
    "        loss = 0\n",
    "        acc = 0\n",
    "        total = 0\n",
    "        for inp, label in trn_loader:\n",
    "            inp = inp.to(cfg.device)\n",
    "            label = label.to(cfg.device)\n",
    "            bs = label.shape[0]\n",
    "            pred = net(inp)\n",
    "            _loss = loss_fn(pred, label.float())\n",
    "            _acc = acc_fn(pred, label)\n",
    "            optimizer.zero_grad()\n",
    "            _loss.backward()\n",
    "            optimizer.step()\n",
    "            loss += _loss.item() * bs\n",
    "            acc += _acc.item() * bs\n",
    "            total += bs\n",
    "        loss = loss/total\n",
    "        acc = acc/total\n",
    "        trn_losses.append(loss)\n",
    "        trn_accs.append(acc)\n",
    "        net.eval()\n",
    "        loss = 0\n",
    "        acc = 0\n",
    "        total = 0\n",
    "        with torch.no_grad():\n",
    "            for inp, label in test_loader:\n",
    "                inp = inp.to(cfg.device)\n",
    "                label = label.to(cfg.device)\n",
    "                bs = label.shape[0]\n",
    "                pred = net(inp)\n",
    "                _loss = loss_fn(pred, label.float())\n",
    "                _acc = acc_fn(pred, label)\n",
    "                loss += _loss.item() * bs\n",
    "                acc += _acc.item() * bs\n",
    "                total += bs\n",
    "        loss = loss/total\n",
    "        acc = acc/total\n",
    "        test_losses.append(loss)\n",
    "        test_accs.append(acc)\n",
    "        torch.save(net.state_dict(), f'checkpoint-epoch{epoch}.pth')\n",
    "    best_epoch = np.argmax(test_accs)\n",
    "    print(f\"The best epoch :{best_epoch} ,Best train accuracy: {trn_accs[best_epoch]} ,  Best Test accuracy: {test_accs[best_epoch]}\")\n",
    "    net.load_state_dict(torch.load(f'checkpoint-epoch{best_epoch}.pth'))\n",
    "    net.eval()\n",
    "    prediction = []\n",
    "    with torch.no_grad():\n",
    "        for inp, label in test_loader:\n",
    "            inp = inp.to(cfg.device)\n",
    "            label = label.to(cfg.device)\n",
    "            bs = label.shape[0]\n",
    "            pred = net(inp)\n",
    "            prediction.append(pred.data.cpu().numpy())\n",
    "    prediction = np.concatenate(prediction, axis=0)\n",
    "    return prediction"
   ]
  },
  {
   "cell_type": "code",
   "execution_count": 29,
   "id": "619f6bbc",
   "metadata": {
    "execution": {
     "iopub.execute_input": "2023-07-09T08:12:43.251211Z",
     "iopub.status.busy": "2023-07-09T08:12:43.250459Z",
     "iopub.status.idle": "2023-07-09T08:13:41.479698Z",
     "shell.execute_reply": "2023-07-09T08:13:41.478055Z"
    },
    "papermill": {
     "duration": 58.246786,
     "end_time": "2023-07-09T08:13:41.481821",
     "exception": false,
     "start_time": "2023-07-09T08:12:43.235035",
     "status": "completed"
    },
    "tags": []
   },
   "outputs": [
    {
     "name": "stdout",
     "output_type": "stream",
     "text": [
      "CNN\n"
     ]
    },
    {
     "data": {
      "application/vnd.jupyter.widget-view+json": {
       "model_id": "572fa6e8200a47e493a781941062307a",
       "version_major": 2,
       "version_minor": 0
      },
      "text/plain": [
       "  0%|          | 0/50 [00:00<?, ?it/s]"
      ]
     },
     "metadata": {},
     "output_type": "display_data"
    },
    {
     "name": "stdout",
     "output_type": "stream",
     "text": [
      "The best epoch :29 ,Best train accuracy: 0.990893428281056 ,  Best Test accuracy: 0.9803149643845446\n",
      "Precision: 0.9899497487437185 , Recall: 0.985\n",
      "RNN\n"
     ]
    },
    {
     "data": {
      "application/vnd.jupyter.widget-view+json": {
       "model_id": "9d1b36a9f2824fb09bf219c3574bd8a1",
       "version_major": 2,
       "version_minor": 0
      },
      "text/plain": [
       "  0%|          | 0/50 [00:00<?, ?it/s]"
      ]
     },
     "metadata": {},
     "output_type": "display_data"
    },
    {
     "name": "stdout",
     "output_type": "stream",
     "text": [
      "The best epoch :38 ,Best train accuracy: 0.9884321929608664 ,  Best Test accuracy: 0.9724409458205456\n",
      "Precision: 0.9812967581047382 , Recall: 0.98375\n"
     ]
    }
   ],
   "source": [
    "for name, NN in nn_dict.items():\n",
    "    net = NN().to(cfg.device)\n",
    "    optimizer = torch.optim.Adam(net.parameters(), lr=3e-4)\n",
    "    print(name)\n",
    "    prediction = train_nn(net, optimizer, trn_loader, test_loader)\n",
    "    precision = precision_score(Y_test, prediction>0.5)\n",
    "    recall = recall_score(Y_test, prediction>0.5)\n",
    "    print(f\"Precision: {precision} , Recall: {recall}\")"
   ]
  },
  {
   "cell_type": "code",
   "execution_count": 30,
   "id": "7f2a2d03",
   "metadata": {
    "execution": {
     "iopub.execute_input": "2023-07-09T08:13:41.513336Z",
     "iopub.status.busy": "2023-07-09T08:13:41.513047Z",
     "iopub.status.idle": "2023-07-09T08:13:41.523705Z",
     "shell.execute_reply": "2023-07-09T08:13:41.522770Z"
    },
    "papermill": {
     "duration": 0.02862,
     "end_time": "2023-07-09T08:13:41.525990",
     "exception": false,
     "start_time": "2023-07-09T08:13:41.497370",
     "status": "completed"
    },
    "tags": []
   },
   "outputs": [],
   "source": [
    "class MModel(torch.nn.Module):\n",
    "    def __init__(self):\n",
    "        super().__init__()\n",
    "        self.embedding = nn.Embedding(307, 100)\n",
    "        self.cnn = nn.Sequential(\n",
    "            nn.Conv1d(100, 100, kernel_size=3, padding=1),\n",
    "            nn.ReLU(),\n",
    "            nn.BatchNorm1d(100),\n",
    "            nn.Dropout(0.2),\n",
    "            nn.MaxPool1d(2),\n",
    "            nn.Conv1d(100, 100, kernel_size=3, padding=1),\n",
    "            nn.ReLU(),\n",
    "            nn.BatchNorm1d(100),\n",
    "            nn.Dropout(0.2),\n",
    "            nn.MaxPool1d(2),\n",
    "            nn.Conv1d(100, 100, kernel_size=3, padding=1),\n",
    "        )\n",
    "        self.fc = nn.Sequential(\n",
    "            nn.Linear(307, 100),\n",
    "            nn.ReLU(),\n",
    "            nn.BatchNorm1d(100),\n",
    "        )\n",
    "        self.pool = nn.AdaptiveAvgPool1d(1)\n",
    "        self.classifier = nn.Sequential(\n",
    "            nn.Linear(100, 100),\n",
    "            nn.ReLU(),\n",
    "            nn.Linear(100, 1),\n",
    "            nn.Sigmoid()\n",
    "        )\n",
    "    \n",
    "    def forward(self, inp1, inp2):\n",
    "        emb = self.embedding(inp1)\n",
    "        gl_feats = self.pool(self.cnn(emb.permute(0,2,1))).squeeze(-1)\n",
    "        \n",
    "        feats2 = self.fc(inp2)\n",
    "        probs = self.classifier(gl_feats + feats2).squeeze(-1)\n",
    "        return probs\n",
    "\n"
   ]
  },
  {
   "cell_type": "code",
   "execution_count": 31,
   "id": "abe4f452",
   "metadata": {
    "execution": {
     "iopub.execute_input": "2023-07-09T08:13:41.556595Z",
     "iopub.status.busy": "2023-07-09T08:13:41.556311Z",
     "iopub.status.idle": "2023-07-09T08:13:41.571681Z",
     "shell.execute_reply": "2023-07-09T08:13:41.570840Z"
    },
    "papermill": {
     "duration": 0.032985,
     "end_time": "2023-07-09T08:13:41.573659",
     "exception": false,
     "start_time": "2023-07-09T08:13:41.540674",
     "status": "completed"
    },
    "tags": []
   },
   "outputs": [],
   "source": [
    "trn_dset = TensorDataset(torch.tensor(X_train.values), torch.tensor(X_train_cnt), torch.tensor(Y_train.values))\n",
    "test_dset = TensorDataset(torch.tensor(X_test.values), torch.tensor(X_test_cnt), torch.tensor(Y_test.values))\n",
    "trn_loader = DataLoader(trn_dset, shuffle=True, batch_size=cfg.batch_size)\n",
    "test_loader = DataLoader(test_dset, shuffle=False, batch_size=cfg.batch_size)"
   ]
  },
  {
   "cell_type": "code",
   "execution_count": 32,
   "id": "42e84610",
   "metadata": {
    "execution": {
     "iopub.execute_input": "2023-07-09T08:13:41.603841Z",
     "iopub.status.busy": "2023-07-09T08:13:41.603544Z",
     "iopub.status.idle": "2023-07-09T08:13:41.615145Z",
     "shell.execute_reply": "2023-07-09T08:13:41.614057Z"
    },
    "papermill": {
     "duration": 0.029171,
     "end_time": "2023-07-09T08:13:41.617333",
     "exception": false,
     "start_time": "2023-07-09T08:13:41.588162",
     "status": "completed"
    },
    "tags": []
   },
   "outputs": [],
   "source": [
    "net = MModel().to(cfg.device)\n",
    "optimizer = torch.optim.Adam(net.parameters(), lr=3e-4)\n",
    "loss_fn = torch.nn.BCELoss()\n",
    "def acc_fn(pred, label):\n",
    "    return ((pred>0.5)==label).float().mean()"
   ]
  },
  {
   "cell_type": "code",
   "execution_count": 33,
   "id": "31dbe358",
   "metadata": {
    "execution": {
     "iopub.execute_input": "2023-07-09T08:13:41.647678Z",
     "iopub.status.busy": "2023-07-09T08:13:41.647424Z",
     "iopub.status.idle": "2023-07-09T08:14:01.319974Z",
     "shell.execute_reply": "2023-07-09T08:14:01.319044Z"
    },
    "papermill": {
     "duration": 19.690386,
     "end_time": "2023-07-09T08:14:01.322386",
     "exception": false,
     "start_time": "2023-07-09T08:13:41.632000",
     "status": "completed"
    },
    "tags": []
   },
   "outputs": [
    {
     "data": {
      "application/vnd.jupyter.widget-view+json": {
       "model_id": "0d98fc6dbf0a454f926c018045b088eb",
       "version_major": 2,
       "version_minor": 0
      },
      "text/plain": [
       "  0%|          | 0/50 [00:00<?, ?it/s]"
      ]
     },
     "metadata": {},
     "output_type": "display_data"
    },
    {
     "name": "stdout",
     "output_type": "stream",
     "text": [
      "Train accuracy: 0.9963081466896382 , Test accuracy: 0.9763779565105288\n"
     ]
    }
   ],
   "source": [
    "trn_losses = []\n",
    "trn_accs = []\n",
    "test_losses = []\n",
    "test_accs = []\n",
    "\n",
    "for epoch in tqdm(range(50)):\n",
    "    net.train()\n",
    "    loss = 0\n",
    "    acc = 0\n",
    "    total = 0\n",
    "    for inp1, inp2, label in trn_loader:\n",
    "        inp1 = inp1.to(cfg.device)\n",
    "        inp2 = inp2.to(cfg.device).float()\n",
    "        label = label.to(cfg.device)\n",
    "        bs = label.shape[0]\n",
    "        pred = net(inp1, inp2)\n",
    "        _loss = loss_fn(pred, label.float())\n",
    "        _acc = acc_fn(pred, label)\n",
    "        optimizer.zero_grad()\n",
    "        _loss.backward()\n",
    "        optimizer.step()\n",
    "        loss += _loss.item() * bs\n",
    "        acc += _acc.item() * bs\n",
    "        total += bs\n",
    "    loss = loss/total\n",
    "    acc = acc/total\n",
    "    trn_losses.append(loss)\n",
    "    trn_accs.append(acc)\n",
    "    net.eval()\n",
    "    loss = 0\n",
    "    acc = 0\n",
    "    total = 0\n",
    "    with torch.no_grad():\n",
    "        for inp1, inp2, label in test_loader:\n",
    "            inp1 = inp1.to(cfg.device)\n",
    "            inp2 = inp2.to(cfg.device).float()\n",
    "            label = label.to(cfg.device)\n",
    "            bs = label.shape[0]\n",
    "            pred = net(inp1, inp2)\n",
    "            _loss = loss_fn(pred, label.float())\n",
    "            _acc = acc_fn(pred, label)\n",
    "            loss += _loss.item() * bs\n",
    "            acc += _acc.item() * bs\n",
    "            total += bs\n",
    "    loss = loss/total\n",
    "    acc = acc/total\n",
    "    test_losses.append(loss)\n",
    "    test_accs.append(acc)\n",
    "print(f'Train accuracy: {max(trn_accs)} , Test accuracy: {max(test_accs)}')"
   ]
  }
 ],
 "metadata": {
  "kernelspec": {
   "display_name": "Python 3",
   "language": "python",
   "name": "python3"
  },
  "language_info": {
   "codemirror_mode": {
    "name": "ipython",
    "version": 3
   },
   "file_extension": ".py",
   "mimetype": "text/x-python",
   "name": "python",
   "nbconvert_exporter": "python",
   "pygments_lexer": "ipython3",
   "version": "3.10.10"
  },
  "papermill": {
   "default_parameters": {},
   "duration": 127.831291,
   "end_time": "2023-07-09T08:14:04.698661",
   "environment_variables": {},
   "exception": null,
   "input_path": "__notebook__.ipynb",
   "output_path": "__notebook__.ipynb",
   "parameters": {},
   "start_time": "2023-07-09T08:11:56.867370",
   "version": "2.4.0"
  },
  "widgets": {
   "application/vnd.jupyter.widget-state+json": {
    "state": {
     "054c7a80f9234493884ca643893f8408": {
      "model_module": "@jupyter-widgets/controls",
      "model_module_version": "1.5.0",
      "model_name": "HTMLModel",
      "state": {
       "_dom_classes": [],
       "_model_module": "@jupyter-widgets/controls",
       "_model_module_version": "1.5.0",
       "_model_name": "HTMLModel",
       "_view_count": null,
       "_view_module": "@jupyter-widgets/controls",
       "_view_module_version": "1.5.0",
       "_view_name": "HTMLView",
       "description": "",
       "description_tooltip": null,
       "layout": "IPY_MODEL_6368ed8560164535b7c6989f7e264f6b",
       "placeholder": "​",
       "style": "IPY_MODEL_f83efdd2768b433aaa424be950e6ec37",
       "value": " 50/50 [00:21&lt;00:00,  2.86it/s]"
      }
     },
     "0d98fc6dbf0a454f926c018045b088eb": {
      "model_module": "@jupyter-widgets/controls",
      "model_module_version": "1.5.0",
      "model_name": "HBoxModel",
      "state": {
       "_dom_classes": [],
       "_model_module": "@jupyter-widgets/controls",
       "_model_module_version": "1.5.0",
       "_model_name": "HBoxModel",
       "_view_count": null,
       "_view_module": "@jupyter-widgets/controls",
       "_view_module_version": "1.5.0",
       "_view_name": "HBoxView",
       "box_style": "",
       "children": [
        "IPY_MODEL_f9558bf59b9544abbeb8756621696bf2",
        "IPY_MODEL_5e9feb4300dd423c94e749d9b12dd073",
        "IPY_MODEL_48c0f0109b0047c594e15d351fd6562d"
       ],
       "layout": "IPY_MODEL_b2a8a3ae99454cd1ad32daee0213ea1c"
      }
     },
     "18ff6c150328446d9c13e5fc95bfef31": {
      "model_module": "@jupyter-widgets/controls",
      "model_module_version": "1.5.0",
      "model_name": "DescriptionStyleModel",
      "state": {
       "_model_module": "@jupyter-widgets/controls",
       "_model_module_version": "1.5.0",
       "_model_name": "DescriptionStyleModel",
       "_view_count": null,
       "_view_module": "@jupyter-widgets/base",
       "_view_module_version": "1.2.0",
       "_view_name": "StyleView",
       "description_width": ""
      }
     },
     "32dc9e6d120c49bb913231a709282e61": {
      "model_module": "@jupyter-widgets/base",
      "model_module_version": "1.2.0",
      "model_name": "LayoutModel",
      "state": {
       "_model_module": "@jupyter-widgets/base",
       "_model_module_version": "1.2.0",
       "_model_name": "LayoutModel",
       "_view_count": null,
       "_view_module": "@jupyter-widgets/base",
       "_view_module_version": "1.2.0",
       "_view_name": "LayoutView",
       "align_content": null,
       "align_items": null,
       "align_self": null,
       "border": null,
       "bottom": null,
       "display": null,
       "flex": null,
       "flex_flow": null,
       "grid_area": null,
       "grid_auto_columns": null,
       "grid_auto_flow": null,
       "grid_auto_rows": null,
       "grid_column": null,
       "grid_gap": null,
       "grid_row": null,
       "grid_template_areas": null,
       "grid_template_columns": null,
       "grid_template_rows": null,
       "height": null,
       "justify_content": null,
       "justify_items": null,
       "left": null,
       "margin": null,
       "max_height": null,
       "max_width": null,
       "min_height": null,
       "min_width": null,
       "object_fit": null,
       "object_position": null,
       "order": null,
       "overflow": null,
       "overflow_x": null,
       "overflow_y": null,
       "padding": null,
       "right": null,
       "top": null,
       "visibility": null,
       "width": null
      }
     },
     "3f38fa46d0474df8804183758e96e589": {
      "model_module": "@jupyter-widgets/base",
      "model_module_version": "1.2.0",
      "model_name": "LayoutModel",
      "state": {
       "_model_module": "@jupyter-widgets/base",
       "_model_module_version": "1.2.0",
       "_model_name": "LayoutModel",
       "_view_count": null,
       "_view_module": "@jupyter-widgets/base",
       "_view_module_version": "1.2.0",
       "_view_name": "LayoutView",
       "align_content": null,
       "align_items": null,
       "align_self": null,
       "border": null,
       "bottom": null,
       "display": null,
       "flex": null,
       "flex_flow": null,
       "grid_area": null,
       "grid_auto_columns": null,
       "grid_auto_flow": null,
       "grid_auto_rows": null,
       "grid_column": null,
       "grid_gap": null,
       "grid_row": null,
       "grid_template_areas": null,
       "grid_template_columns": null,
       "grid_template_rows": null,
       "height": null,
       "justify_content": null,
       "justify_items": null,
       "left": null,
       "margin": null,
       "max_height": null,
       "max_width": null,
       "min_height": null,
       "min_width": null,
       "object_fit": null,
       "object_position": null,
       "order": null,
       "overflow": null,
       "overflow_x": null,
       "overflow_y": null,
       "padding": null,
       "right": null,
       "top": null,
       "visibility": null,
       "width": null
      }
     },
     "48c0f0109b0047c594e15d351fd6562d": {
      "model_module": "@jupyter-widgets/controls",
      "model_module_version": "1.5.0",
      "model_name": "HTMLModel",
      "state": {
       "_dom_classes": [],
       "_model_module": "@jupyter-widgets/controls",
       "_model_module_version": "1.5.0",
       "_model_name": "HTMLModel",
       "_view_count": null,
       "_view_module": "@jupyter-widgets/controls",
       "_view_module_version": "1.5.0",
       "_view_name": "HTMLView",
       "description": "",
       "description_tooltip": null,
       "layout": "IPY_MODEL_852f5afa9072442bbde62fc6882d09ca",
       "placeholder": "​",
       "style": "IPY_MODEL_c47dc71a7bf247858086ae6b5c88c531",
       "value": " 50/50 [00:19&lt;00:00,  2.55it/s]"
      }
     },
     "572fa6e8200a47e493a781941062307a": {
      "model_module": "@jupyter-widgets/controls",
      "model_module_version": "1.5.0",
      "model_name": "HBoxModel",
      "state": {
       "_dom_classes": [],
       "_model_module": "@jupyter-widgets/controls",
       "_model_module_version": "1.5.0",
       "_model_name": "HBoxModel",
       "_view_count": null,
       "_view_module": "@jupyter-widgets/controls",
       "_view_module_version": "1.5.0",
       "_view_name": "HBoxView",
       "box_style": "",
       "children": [
        "IPY_MODEL_fd4fb6d4b73f4d42a9ddc460759c9cc4",
        "IPY_MODEL_98d281acddcb493abb2c9817076dd18d",
        "IPY_MODEL_054c7a80f9234493884ca643893f8408"
       ],
       "layout": "IPY_MODEL_60d281819e154365ad3ce743509dc92a"
      }
     },
     "58c96639acb9432d8fbba46971caa6ea": {
      "model_module": "@jupyter-widgets/controls",
      "model_module_version": "1.5.0",
      "model_name": "ProgressStyleModel",
      "state": {
       "_model_module": "@jupyter-widgets/controls",
       "_model_module_version": "1.5.0",
       "_model_name": "ProgressStyleModel",
       "_view_count": null,
       "_view_module": "@jupyter-widgets/base",
       "_view_module_version": "1.2.0",
       "_view_name": "StyleView",
       "bar_color": null,
       "description_width": ""
      }
     },
     "5e7844f36a4345c683da629b82c17475": {
      "model_module": "@jupyter-widgets/base",
      "model_module_version": "1.2.0",
      "model_name": "LayoutModel",
      "state": {
       "_model_module": "@jupyter-widgets/base",
       "_model_module_version": "1.2.0",
       "_model_name": "LayoutModel",
       "_view_count": null,
       "_view_module": "@jupyter-widgets/base",
       "_view_module_version": "1.2.0",
       "_view_name": "LayoutView",
       "align_content": null,
       "align_items": null,
       "align_self": null,
       "border": null,
       "bottom": null,
       "display": null,
       "flex": null,
       "flex_flow": null,
       "grid_area": null,
       "grid_auto_columns": null,
       "grid_auto_flow": null,
       "grid_auto_rows": null,
       "grid_column": null,
       "grid_gap": null,
       "grid_row": null,
       "grid_template_areas": null,
       "grid_template_columns": null,
       "grid_template_rows": null,
       "height": null,
       "justify_content": null,
       "justify_items": null,
       "left": null,
       "margin": null,
       "max_height": null,
       "max_width": null,
       "min_height": null,
       "min_width": null,
       "object_fit": null,
       "object_position": null,
       "order": null,
       "overflow": null,
       "overflow_x": null,
       "overflow_y": null,
       "padding": null,
       "right": null,
       "top": null,
       "visibility": null,
       "width": null
      }
     },
     "5e9feb4300dd423c94e749d9b12dd073": {
      "model_module": "@jupyter-widgets/controls",
      "model_module_version": "1.5.0",
      "model_name": "FloatProgressModel",
      "state": {
       "_dom_classes": [],
       "_model_module": "@jupyter-widgets/controls",
       "_model_module_version": "1.5.0",
       "_model_name": "FloatProgressModel",
       "_view_count": null,
       "_view_module": "@jupyter-widgets/controls",
       "_view_module_version": "1.5.0",
       "_view_name": "ProgressView",
       "bar_style": "success",
       "description": "",
       "description_tooltip": null,
       "layout": "IPY_MODEL_3f38fa46d0474df8804183758e96e589",
       "max": 50.0,
       "min": 0.0,
       "orientation": "horizontal",
       "style": "IPY_MODEL_58c96639acb9432d8fbba46971caa6ea",
       "value": 50.0
      }
     },
     "60d281819e154365ad3ce743509dc92a": {
      "model_module": "@jupyter-widgets/base",
      "model_module_version": "1.2.0",
      "model_name": "LayoutModel",
      "state": {
       "_model_module": "@jupyter-widgets/base",
       "_model_module_version": "1.2.0",
       "_model_name": "LayoutModel",
       "_view_count": null,
       "_view_module": "@jupyter-widgets/base",
       "_view_module_version": "1.2.0",
       "_view_name": "LayoutView",
       "align_content": null,
       "align_items": null,
       "align_self": null,
       "border": null,
       "bottom": null,
       "display": null,
       "flex": null,
       "flex_flow": null,
       "grid_area": null,
       "grid_auto_columns": null,
       "grid_auto_flow": null,
       "grid_auto_rows": null,
       "grid_column": null,
       "grid_gap": null,
       "grid_row": null,
       "grid_template_areas": null,
       "grid_template_columns": null,
       "grid_template_rows": null,
       "height": null,
       "justify_content": null,
       "justify_items": null,
       "left": null,
       "margin": null,
       "max_height": null,
       "max_width": null,
       "min_height": null,
       "min_width": null,
       "object_fit": null,
       "object_position": null,
       "order": null,
       "overflow": null,
       "overflow_x": null,
       "overflow_y": null,
       "padding": null,
       "right": null,
       "top": null,
       "visibility": null,
       "width": null
      }
     },
     "6368ed8560164535b7c6989f7e264f6b": {
      "model_module": "@jupyter-widgets/base",
      "model_module_version": "1.2.0",
      "model_name": "LayoutModel",
      "state": {
       "_model_module": "@jupyter-widgets/base",
       "_model_module_version": "1.2.0",
       "_model_name": "LayoutModel",
       "_view_count": null,
       "_view_module": "@jupyter-widgets/base",
       "_view_module_version": "1.2.0",
       "_view_name": "LayoutView",
       "align_content": null,
       "align_items": null,
       "align_self": null,
       "border": null,
       "bottom": null,
       "display": null,
       "flex": null,
       "flex_flow": null,
       "grid_area": null,
       "grid_auto_columns": null,
       "grid_auto_flow": null,
       "grid_auto_rows": null,
       "grid_column": null,
       "grid_gap": null,
       "grid_row": null,
       "grid_template_areas": null,
       "grid_template_columns": null,
       "grid_template_rows": null,
       "height": null,
       "justify_content": null,
       "justify_items": null,
       "left": null,
       "margin": null,
       "max_height": null,
       "max_width": null,
       "min_height": null,
       "min_width": null,
       "object_fit": null,
       "object_position": null,
       "order": null,
       "overflow": null,
       "overflow_x": null,
       "overflow_y": null,
       "padding": null,
       "right": null,
       "top": null,
       "visibility": null,
       "width": null
      }
     },
     "67c052b5cc68441eabef865dfac6a858": {
      "model_module": "@jupyter-widgets/base",
      "model_module_version": "1.2.0",
      "model_name": "LayoutModel",
      "state": {
       "_model_module": "@jupyter-widgets/base",
       "_model_module_version": "1.2.0",
       "_model_name": "LayoutModel",
       "_view_count": null,
       "_view_module": "@jupyter-widgets/base",
       "_view_module_version": "1.2.0",
       "_view_name": "LayoutView",
       "align_content": null,
       "align_items": null,
       "align_self": null,
       "border": null,
       "bottom": null,
       "display": null,
       "flex": null,
       "flex_flow": null,
       "grid_area": null,
       "grid_auto_columns": null,
       "grid_auto_flow": null,
       "grid_auto_rows": null,
       "grid_column": null,
       "grid_gap": null,
       "grid_row": null,
       "grid_template_areas": null,
       "grid_template_columns": null,
       "grid_template_rows": null,
       "height": null,
       "justify_content": null,
       "justify_items": null,
       "left": null,
       "margin": null,
       "max_height": null,
       "max_width": null,
       "min_height": null,
       "min_width": null,
       "object_fit": null,
       "object_position": null,
       "order": null,
       "overflow": null,
       "overflow_x": null,
       "overflow_y": null,
       "padding": null,
       "right": null,
       "top": null,
       "visibility": null,
       "width": null
      }
     },
     "69c20f5319ed42759cfa929d7389b186": {
      "model_module": "@jupyter-widgets/controls",
      "model_module_version": "1.5.0",
      "model_name": "DescriptionStyleModel",
      "state": {
       "_model_module": "@jupyter-widgets/controls",
       "_model_module_version": "1.5.0",
       "_model_name": "DescriptionStyleModel",
       "_view_count": null,
       "_view_module": "@jupyter-widgets/base",
       "_view_module_version": "1.2.0",
       "_view_name": "StyleView",
       "description_width": ""
      }
     },
     "7e794579e7b14a9da4ca01abeda595bb": {
      "model_module": "@jupyter-widgets/controls",
      "model_module_version": "1.5.0",
      "model_name": "ProgressStyleModel",
      "state": {
       "_model_module": "@jupyter-widgets/controls",
       "_model_module_version": "1.5.0",
       "_model_name": "ProgressStyleModel",
       "_view_count": null,
       "_view_module": "@jupyter-widgets/base",
       "_view_module_version": "1.2.0",
       "_view_name": "StyleView",
       "bar_color": null,
       "description_width": ""
      }
     },
     "830be6fa8a384a858c582b1b4aa727dc": {
      "model_module": "@jupyter-widgets/controls",
      "model_module_version": "1.5.0",
      "model_name": "FloatProgressModel",
      "state": {
       "_dom_classes": [],
       "_model_module": "@jupyter-widgets/controls",
       "_model_module_version": "1.5.0",
       "_model_name": "FloatProgressModel",
       "_view_count": null,
       "_view_module": "@jupyter-widgets/controls",
       "_view_module_version": "1.5.0",
       "_view_name": "ProgressView",
       "bar_style": "success",
       "description": "",
       "description_tooltip": null,
       "layout": "IPY_MODEL_bae797d8557d41f69bc9239163fe6546",
       "max": 50.0,
       "min": 0.0,
       "orientation": "horizontal",
       "style": "IPY_MODEL_7e794579e7b14a9da4ca01abeda595bb",
       "value": 50.0
      }
     },
     "83c1573019334ff4bf73878d1ec3d331": {
      "model_module": "@jupyter-widgets/controls",
      "model_module_version": "1.5.0",
      "model_name": "DescriptionStyleModel",
      "state": {
       "_model_module": "@jupyter-widgets/controls",
       "_model_module_version": "1.5.0",
       "_model_name": "DescriptionStyleModel",
       "_view_count": null,
       "_view_module": "@jupyter-widgets/base",
       "_view_module_version": "1.2.0",
       "_view_name": "StyleView",
       "description_width": ""
      }
     },
     "852f5afa9072442bbde62fc6882d09ca": {
      "model_module": "@jupyter-widgets/base",
      "model_module_version": "1.2.0",
      "model_name": "LayoutModel",
      "state": {
       "_model_module": "@jupyter-widgets/base",
       "_model_module_version": "1.2.0",
       "_model_name": "LayoutModel",
       "_view_count": null,
       "_view_module": "@jupyter-widgets/base",
       "_view_module_version": "1.2.0",
       "_view_name": "LayoutView",
       "align_content": null,
       "align_items": null,
       "align_self": null,
       "border": null,
       "bottom": null,
       "display": null,
       "flex": null,
       "flex_flow": null,
       "grid_area": null,
       "grid_auto_columns": null,
       "grid_auto_flow": null,
       "grid_auto_rows": null,
       "grid_column": null,
       "grid_gap": null,
       "grid_row": null,
       "grid_template_areas": null,
       "grid_template_columns": null,
       "grid_template_rows": null,
       "height": null,
       "justify_content": null,
       "justify_items": null,
       "left": null,
       "margin": null,
       "max_height": null,
       "max_width": null,
       "min_height": null,
       "min_width": null,
       "object_fit": null,
       "object_position": null,
       "order": null,
       "overflow": null,
       "overflow_x": null,
       "overflow_y": null,
       "padding": null,
       "right": null,
       "top": null,
       "visibility": null,
       "width": null
      }
     },
     "96ddb3311bc443a4a18cfa28fa118f2e": {
      "model_module": "@jupyter-widgets/controls",
      "model_module_version": "1.5.0",
      "model_name": "DescriptionStyleModel",
      "state": {
       "_model_module": "@jupyter-widgets/controls",
       "_model_module_version": "1.5.0",
       "_model_name": "DescriptionStyleModel",
       "_view_count": null,
       "_view_module": "@jupyter-widgets/base",
       "_view_module_version": "1.2.0",
       "_view_name": "StyleView",
       "description_width": ""
      }
     },
     "98d281acddcb493abb2c9817076dd18d": {
      "model_module": "@jupyter-widgets/controls",
      "model_module_version": "1.5.0",
      "model_name": "FloatProgressModel",
      "state": {
       "_dom_classes": [],
       "_model_module": "@jupyter-widgets/controls",
       "_model_module_version": "1.5.0",
       "_model_name": "FloatProgressModel",
       "_view_count": null,
       "_view_module": "@jupyter-widgets/controls",
       "_view_module_version": "1.5.0",
       "_view_name": "ProgressView",
       "bar_style": "success",
       "description": "",
       "description_tooltip": null,
       "layout": "IPY_MODEL_32dc9e6d120c49bb913231a709282e61",
       "max": 50.0,
       "min": 0.0,
       "orientation": "horizontal",
       "style": "IPY_MODEL_e4dee4f9fe7645ddb7bb9f631e64e60a",
       "value": 50.0
      }
     },
     "9d1b36a9f2824fb09bf219c3574bd8a1": {
      "model_module": "@jupyter-widgets/controls",
      "model_module_version": "1.5.0",
      "model_name": "HBoxModel",
      "state": {
       "_dom_classes": [],
       "_model_module": "@jupyter-widgets/controls",
       "_model_module_version": "1.5.0",
       "_model_name": "HBoxModel",
       "_view_count": null,
       "_view_module": "@jupyter-widgets/controls",
       "_view_module_version": "1.5.0",
       "_view_name": "HBoxView",
       "box_style": "",
       "children": [
        "IPY_MODEL_9e1b0c4374e64a9d9480b77caaa5693e",
        "IPY_MODEL_830be6fa8a384a858c582b1b4aa727dc",
        "IPY_MODEL_cb144f52c69c4158a1f3fa5f60b92dee"
       ],
       "layout": "IPY_MODEL_f2a1a29222f449369e2c6b30f4f4130e"
      }
     },
     "9e1b0c4374e64a9d9480b77caaa5693e": {
      "model_module": "@jupyter-widgets/controls",
      "model_module_version": "1.5.0",
      "model_name": "HTMLModel",
      "state": {
       "_dom_classes": [],
       "_model_module": "@jupyter-widgets/controls",
       "_model_module_version": "1.5.0",
       "_model_name": "HTMLModel",
       "_view_count": null,
       "_view_module": "@jupyter-widgets/controls",
       "_view_module_version": "1.5.0",
       "_view_name": "HTMLView",
       "description": "",
       "description_tooltip": null,
       "layout": "IPY_MODEL_e7f8175a6f5344fca58cfe1ef09091f3",
       "placeholder": "​",
       "style": "IPY_MODEL_96ddb3311bc443a4a18cfa28fa118f2e",
       "value": "100%"
      }
     },
     "b2a8a3ae99454cd1ad32daee0213ea1c": {
      "model_module": "@jupyter-widgets/base",
      "model_module_version": "1.2.0",
      "model_name": "LayoutModel",
      "state": {
       "_model_module": "@jupyter-widgets/base",
       "_model_module_version": "1.2.0",
       "_model_name": "LayoutModel",
       "_view_count": null,
       "_view_module": "@jupyter-widgets/base",
       "_view_module_version": "1.2.0",
       "_view_name": "LayoutView",
       "align_content": null,
       "align_items": null,
       "align_self": null,
       "border": null,
       "bottom": null,
       "display": null,
       "flex": null,
       "flex_flow": null,
       "grid_area": null,
       "grid_auto_columns": null,
       "grid_auto_flow": null,
       "grid_auto_rows": null,
       "grid_column": null,
       "grid_gap": null,
       "grid_row": null,
       "grid_template_areas": null,
       "grid_template_columns": null,
       "grid_template_rows": null,
       "height": null,
       "justify_content": null,
       "justify_items": null,
       "left": null,
       "margin": null,
       "max_height": null,
       "max_width": null,
       "min_height": null,
       "min_width": null,
       "object_fit": null,
       "object_position": null,
       "order": null,
       "overflow": null,
       "overflow_x": null,
       "overflow_y": null,
       "padding": null,
       "right": null,
       "top": null,
       "visibility": null,
       "width": null
      }
     },
     "bae797d8557d41f69bc9239163fe6546": {
      "model_module": "@jupyter-widgets/base",
      "model_module_version": "1.2.0",
      "model_name": "LayoutModel",
      "state": {
       "_model_module": "@jupyter-widgets/base",
       "_model_module_version": "1.2.0",
       "_model_name": "LayoutModel",
       "_view_count": null,
       "_view_module": "@jupyter-widgets/base",
       "_view_module_version": "1.2.0",
       "_view_name": "LayoutView",
       "align_content": null,
       "align_items": null,
       "align_self": null,
       "border": null,
       "bottom": null,
       "display": null,
       "flex": null,
       "flex_flow": null,
       "grid_area": null,
       "grid_auto_columns": null,
       "grid_auto_flow": null,
       "grid_auto_rows": null,
       "grid_column": null,
       "grid_gap": null,
       "grid_row": null,
       "grid_template_areas": null,
       "grid_template_columns": null,
       "grid_template_rows": null,
       "height": null,
       "justify_content": null,
       "justify_items": null,
       "left": null,
       "margin": null,
       "max_height": null,
       "max_width": null,
       "min_height": null,
       "min_width": null,
       "object_fit": null,
       "object_position": null,
       "order": null,
       "overflow": null,
       "overflow_x": null,
       "overflow_y": null,
       "padding": null,
       "right": null,
       "top": null,
       "visibility": null,
       "width": null
      }
     },
     "c47dc71a7bf247858086ae6b5c88c531": {
      "model_module": "@jupyter-widgets/controls",
      "model_module_version": "1.5.0",
      "model_name": "DescriptionStyleModel",
      "state": {
       "_model_module": "@jupyter-widgets/controls",
       "_model_module_version": "1.5.0",
       "_model_name": "DescriptionStyleModel",
       "_view_count": null,
       "_view_module": "@jupyter-widgets/base",
       "_view_module_version": "1.2.0",
       "_view_name": "StyleView",
       "description_width": ""
      }
     },
     "cb144f52c69c4158a1f3fa5f60b92dee": {
      "model_module": "@jupyter-widgets/controls",
      "model_module_version": "1.5.0",
      "model_name": "HTMLModel",
      "state": {
       "_dom_classes": [],
       "_model_module": "@jupyter-widgets/controls",
       "_model_module_version": "1.5.0",
       "_model_name": "HTMLModel",
       "_view_count": null,
       "_view_module": "@jupyter-widgets/controls",
       "_view_module_version": "1.5.0",
       "_view_name": "HTMLView",
       "description": "",
       "description_tooltip": null,
       "layout": "IPY_MODEL_5e7844f36a4345c683da629b82c17475",
       "placeholder": "​",
       "style": "IPY_MODEL_83c1573019334ff4bf73878d1ec3d331",
       "value": " 50/50 [00:32&lt;00:00,  1.52it/s]"
      }
     },
     "cebfa12f12684faa891a6e0ba01c9d44": {
      "model_module": "@jupyter-widgets/base",
      "model_module_version": "1.2.0",
      "model_name": "LayoutModel",
      "state": {
       "_model_module": "@jupyter-widgets/base",
       "_model_module_version": "1.2.0",
       "_model_name": "LayoutModel",
       "_view_count": null,
       "_view_module": "@jupyter-widgets/base",
       "_view_module_version": "1.2.0",
       "_view_name": "LayoutView",
       "align_content": null,
       "align_items": null,
       "align_self": null,
       "border": null,
       "bottom": null,
       "display": null,
       "flex": null,
       "flex_flow": null,
       "grid_area": null,
       "grid_auto_columns": null,
       "grid_auto_flow": null,
       "grid_auto_rows": null,
       "grid_column": null,
       "grid_gap": null,
       "grid_row": null,
       "grid_template_areas": null,
       "grid_template_columns": null,
       "grid_template_rows": null,
       "height": null,
       "justify_content": null,
       "justify_items": null,
       "left": null,
       "margin": null,
       "max_height": null,
       "max_width": null,
       "min_height": null,
       "min_width": null,
       "object_fit": null,
       "object_position": null,
       "order": null,
       "overflow": null,
       "overflow_x": null,
       "overflow_y": null,
       "padding": null,
       "right": null,
       "top": null,
       "visibility": null,
       "width": null
      }
     },
     "e4dee4f9fe7645ddb7bb9f631e64e60a": {
      "model_module": "@jupyter-widgets/controls",
      "model_module_version": "1.5.0",
      "model_name": "ProgressStyleModel",
      "state": {
       "_model_module": "@jupyter-widgets/controls",
       "_model_module_version": "1.5.0",
       "_model_name": "ProgressStyleModel",
       "_view_count": null,
       "_view_module": "@jupyter-widgets/base",
       "_view_module_version": "1.2.0",
       "_view_name": "StyleView",
       "bar_color": null,
       "description_width": ""
      }
     },
     "e7f8175a6f5344fca58cfe1ef09091f3": {
      "model_module": "@jupyter-widgets/base",
      "model_module_version": "1.2.0",
      "model_name": "LayoutModel",
      "state": {
       "_model_module": "@jupyter-widgets/base",
       "_model_module_version": "1.2.0",
       "_model_name": "LayoutModel",
       "_view_count": null,
       "_view_module": "@jupyter-widgets/base",
       "_view_module_version": "1.2.0",
       "_view_name": "LayoutView",
       "align_content": null,
       "align_items": null,
       "align_self": null,
       "border": null,
       "bottom": null,
       "display": null,
       "flex": null,
       "flex_flow": null,
       "grid_area": null,
       "grid_auto_columns": null,
       "grid_auto_flow": null,
       "grid_auto_rows": null,
       "grid_column": null,
       "grid_gap": null,
       "grid_row": null,
       "grid_template_areas": null,
       "grid_template_columns": null,
       "grid_template_rows": null,
       "height": null,
       "justify_content": null,
       "justify_items": null,
       "left": null,
       "margin": null,
       "max_height": null,
       "max_width": null,
       "min_height": null,
       "min_width": null,
       "object_fit": null,
       "object_position": null,
       "order": null,
       "overflow": null,
       "overflow_x": null,
       "overflow_y": null,
       "padding": null,
       "right": null,
       "top": null,
       "visibility": null,
       "width": null
      }
     },
     "f2a1a29222f449369e2c6b30f4f4130e": {
      "model_module": "@jupyter-widgets/base",
      "model_module_version": "1.2.0",
      "model_name": "LayoutModel",
      "state": {
       "_model_module": "@jupyter-widgets/base",
       "_model_module_version": "1.2.0",
       "_model_name": "LayoutModel",
       "_view_count": null,
       "_view_module": "@jupyter-widgets/base",
       "_view_module_version": "1.2.0",
       "_view_name": "LayoutView",
       "align_content": null,
       "align_items": null,
       "align_self": null,
       "border": null,
       "bottom": null,
       "display": null,
       "flex": null,
       "flex_flow": null,
       "grid_area": null,
       "grid_auto_columns": null,
       "grid_auto_flow": null,
       "grid_auto_rows": null,
       "grid_column": null,
       "grid_gap": null,
       "grid_row": null,
       "grid_template_areas": null,
       "grid_template_columns": null,
       "grid_template_rows": null,
       "height": null,
       "justify_content": null,
       "justify_items": null,
       "left": null,
       "margin": null,
       "max_height": null,
       "max_width": null,
       "min_height": null,
       "min_width": null,
       "object_fit": null,
       "object_position": null,
       "order": null,
       "overflow": null,
       "overflow_x": null,
       "overflow_y": null,
       "padding": null,
       "right": null,
       "top": null,
       "visibility": null,
       "width": null
      }
     },
     "f83efdd2768b433aaa424be950e6ec37": {
      "model_module": "@jupyter-widgets/controls",
      "model_module_version": "1.5.0",
      "model_name": "DescriptionStyleModel",
      "state": {
       "_model_module": "@jupyter-widgets/controls",
       "_model_module_version": "1.5.0",
       "_model_name": "DescriptionStyleModel",
       "_view_count": null,
       "_view_module": "@jupyter-widgets/base",
       "_view_module_version": "1.2.0",
       "_view_name": "StyleView",
       "description_width": ""
      }
     },
     "f9558bf59b9544abbeb8756621696bf2": {
      "model_module": "@jupyter-widgets/controls",
      "model_module_version": "1.5.0",
      "model_name": "HTMLModel",
      "state": {
       "_dom_classes": [],
       "_model_module": "@jupyter-widgets/controls",
       "_model_module_version": "1.5.0",
       "_model_name": "HTMLModel",
       "_view_count": null,
       "_view_module": "@jupyter-widgets/controls",
       "_view_module_version": "1.5.0",
       "_view_name": "HTMLView",
       "description": "",
       "description_tooltip": null,
       "layout": "IPY_MODEL_cebfa12f12684faa891a6e0ba01c9d44",
       "placeholder": "​",
       "style": "IPY_MODEL_18ff6c150328446d9c13e5fc95bfef31",
       "value": "100%"
      }
     },
     "fd4fb6d4b73f4d42a9ddc460759c9cc4": {
      "model_module": "@jupyter-widgets/controls",
      "model_module_version": "1.5.0",
      "model_name": "HTMLModel",
      "state": {
       "_dom_classes": [],
       "_model_module": "@jupyter-widgets/controls",
       "_model_module_version": "1.5.0",
       "_model_name": "HTMLModel",
       "_view_count": null,
       "_view_module": "@jupyter-widgets/controls",
       "_view_module_version": "1.5.0",
       "_view_name": "HTMLView",
       "description": "",
       "description_tooltip": null,
       "layout": "IPY_MODEL_67c052b5cc68441eabef865dfac6a858",
       "placeholder": "​",
       "style": "IPY_MODEL_69c20f5319ed42759cfa929d7389b186",
       "value": "100%"
      }
     }
    },
    "version_major": 2,
    "version_minor": 0
   }
  }
 },
 "nbformat": 4,
 "nbformat_minor": 5
}
